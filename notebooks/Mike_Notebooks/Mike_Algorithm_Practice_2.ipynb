{
 "cells": [
  {
   "cell_type": "markdown",
   "metadata": {},
   "source": [
    "# Algorithm Practice\n",
    "#### Goal is to use several simple sklearn algorithms to practice comparing:\n",
    "- Model Performance\n",
    "- ROC Curves\n",
    "- Permutation Importance"
   ]
  },
  {
   "cell_type": "code",
   "execution_count": 1,
   "metadata": {},
   "outputs": [],
   "source": [
    "import os\n",
    "import numpy as np\n",
    "import pandas as pd\n",
    "import matplotlib.pyplot as plt\n",
    "import seaborn as sns"
   ]
  },
  {
   "cell_type": "code",
   "execution_count": 2,
   "metadata": {},
   "outputs": [],
   "source": [
    "csv_path = os.path.join(\"..\",\"..\",\"data\",\"train.csv\"); csv_path_test = os.path.join(\"..\",\"..\",\"data\",\"test.csv\")\n",
    "train_data = pd.read_csv(csv_path); test_data = pd.read_csv(csv_path_test)"
   ]
  },
  {
   "cell_type": "code",
   "execution_count": 3,
   "metadata": {},
   "outputs": [
    {
     "data": {
      "text/html": [
       "<div>\n",
       "<style scoped>\n",
       "    .dataframe tbody tr th:only-of-type {\n",
       "        vertical-align: middle;\n",
       "    }\n",
       "\n",
       "    .dataframe tbody tr th {\n",
       "        vertical-align: top;\n",
       "    }\n",
       "\n",
       "    .dataframe thead th {\n",
       "        text-align: right;\n",
       "    }\n",
       "</style>\n",
       "<table border=\"1\" class=\"dataframe\">\n",
       "  <thead>\n",
       "    <tr style=\"text-align: right;\">\n",
       "      <th></th>\n",
       "      <th>ID_code</th>\n",
       "      <th>target</th>\n",
       "      <th>var_0</th>\n",
       "      <th>var_1</th>\n",
       "      <th>var_2</th>\n",
       "      <th>var_3</th>\n",
       "      <th>var_4</th>\n",
       "      <th>var_5</th>\n",
       "      <th>var_6</th>\n",
       "      <th>var_7</th>\n",
       "      <th>...</th>\n",
       "      <th>var_190</th>\n",
       "      <th>var_191</th>\n",
       "      <th>var_192</th>\n",
       "      <th>var_193</th>\n",
       "      <th>var_194</th>\n",
       "      <th>var_195</th>\n",
       "      <th>var_196</th>\n",
       "      <th>var_197</th>\n",
       "      <th>var_198</th>\n",
       "      <th>var_199</th>\n",
       "    </tr>\n",
       "  </thead>\n",
       "  <tbody>\n",
       "    <tr>\n",
       "      <th>0</th>\n",
       "      <td>train_0</td>\n",
       "      <td>0</td>\n",
       "      <td>8.9255</td>\n",
       "      <td>-6.7863</td>\n",
       "      <td>11.9081</td>\n",
       "      <td>5.0930</td>\n",
       "      <td>11.4607</td>\n",
       "      <td>-9.2834</td>\n",
       "      <td>5.1187</td>\n",
       "      <td>18.6266</td>\n",
       "      <td>...</td>\n",
       "      <td>4.4354</td>\n",
       "      <td>3.9642</td>\n",
       "      <td>3.1364</td>\n",
       "      <td>1.6910</td>\n",
       "      <td>18.5227</td>\n",
       "      <td>-2.3978</td>\n",
       "      <td>7.8784</td>\n",
       "      <td>8.5635</td>\n",
       "      <td>12.7803</td>\n",
       "      <td>-1.0914</td>\n",
       "    </tr>\n",
       "    <tr>\n",
       "      <th>1</th>\n",
       "      <td>train_1</td>\n",
       "      <td>0</td>\n",
       "      <td>11.5006</td>\n",
       "      <td>-4.1473</td>\n",
       "      <td>13.8588</td>\n",
       "      <td>5.3890</td>\n",
       "      <td>12.3622</td>\n",
       "      <td>7.0433</td>\n",
       "      <td>5.6208</td>\n",
       "      <td>16.5338</td>\n",
       "      <td>...</td>\n",
       "      <td>7.6421</td>\n",
       "      <td>7.7214</td>\n",
       "      <td>2.5837</td>\n",
       "      <td>10.9516</td>\n",
       "      <td>15.4305</td>\n",
       "      <td>2.0339</td>\n",
       "      <td>8.1267</td>\n",
       "      <td>8.7889</td>\n",
       "      <td>18.3560</td>\n",
       "      <td>1.9518</td>\n",
       "    </tr>\n",
       "    <tr>\n",
       "      <th>2</th>\n",
       "      <td>train_2</td>\n",
       "      <td>0</td>\n",
       "      <td>8.6093</td>\n",
       "      <td>-2.7457</td>\n",
       "      <td>12.0805</td>\n",
       "      <td>7.8928</td>\n",
       "      <td>10.5825</td>\n",
       "      <td>-9.0837</td>\n",
       "      <td>6.9427</td>\n",
       "      <td>14.6155</td>\n",
       "      <td>...</td>\n",
       "      <td>2.9057</td>\n",
       "      <td>9.7905</td>\n",
       "      <td>1.6704</td>\n",
       "      <td>1.6858</td>\n",
       "      <td>21.6042</td>\n",
       "      <td>3.1417</td>\n",
       "      <td>-6.5213</td>\n",
       "      <td>8.2675</td>\n",
       "      <td>14.7222</td>\n",
       "      <td>0.3965</td>\n",
       "    </tr>\n",
       "    <tr>\n",
       "      <th>3</th>\n",
       "      <td>train_3</td>\n",
       "      <td>0</td>\n",
       "      <td>11.0604</td>\n",
       "      <td>-2.1518</td>\n",
       "      <td>8.9522</td>\n",
       "      <td>7.1957</td>\n",
       "      <td>12.5846</td>\n",
       "      <td>-1.8361</td>\n",
       "      <td>5.8428</td>\n",
       "      <td>14.9250</td>\n",
       "      <td>...</td>\n",
       "      <td>4.4666</td>\n",
       "      <td>4.7433</td>\n",
       "      <td>0.7178</td>\n",
       "      <td>1.4214</td>\n",
       "      <td>23.0347</td>\n",
       "      <td>-1.2706</td>\n",
       "      <td>-2.9275</td>\n",
       "      <td>10.2922</td>\n",
       "      <td>17.9697</td>\n",
       "      <td>-8.9996</td>\n",
       "    </tr>\n",
       "    <tr>\n",
       "      <th>4</th>\n",
       "      <td>train_4</td>\n",
       "      <td>0</td>\n",
       "      <td>9.8369</td>\n",
       "      <td>-1.4834</td>\n",
       "      <td>12.8746</td>\n",
       "      <td>6.6375</td>\n",
       "      <td>12.2772</td>\n",
       "      <td>2.4486</td>\n",
       "      <td>5.9405</td>\n",
       "      <td>19.2514</td>\n",
       "      <td>...</td>\n",
       "      <td>-1.4905</td>\n",
       "      <td>9.5214</td>\n",
       "      <td>-0.1508</td>\n",
       "      <td>9.1942</td>\n",
       "      <td>13.2876</td>\n",
       "      <td>-1.5121</td>\n",
       "      <td>3.9267</td>\n",
       "      <td>9.5031</td>\n",
       "      <td>17.9974</td>\n",
       "      <td>-8.8104</td>\n",
       "    </tr>\n",
       "  </tbody>\n",
       "</table>\n",
       "<p>5 rows × 202 columns</p>\n",
       "</div>"
      ],
      "text/plain": [
       "   ID_code  target    var_0   var_1    var_2   var_3    var_4   var_5   var_6  \\\n",
       "0  train_0       0   8.9255 -6.7863  11.9081  5.0930  11.4607 -9.2834  5.1187   \n",
       "1  train_1       0  11.5006 -4.1473  13.8588  5.3890  12.3622  7.0433  5.6208   \n",
       "2  train_2       0   8.6093 -2.7457  12.0805  7.8928  10.5825 -9.0837  6.9427   \n",
       "3  train_3       0  11.0604 -2.1518   8.9522  7.1957  12.5846 -1.8361  5.8428   \n",
       "4  train_4       0   9.8369 -1.4834  12.8746  6.6375  12.2772  2.4486  5.9405   \n",
       "\n",
       "     var_7   ...     var_190  var_191  var_192  var_193  var_194  var_195  \\\n",
       "0  18.6266   ...      4.4354   3.9642   3.1364   1.6910  18.5227  -2.3978   \n",
       "1  16.5338   ...      7.6421   7.7214   2.5837  10.9516  15.4305   2.0339   \n",
       "2  14.6155   ...      2.9057   9.7905   1.6704   1.6858  21.6042   3.1417   \n",
       "3  14.9250   ...      4.4666   4.7433   0.7178   1.4214  23.0347  -1.2706   \n",
       "4  19.2514   ...     -1.4905   9.5214  -0.1508   9.1942  13.2876  -1.5121   \n",
       "\n",
       "   var_196  var_197  var_198  var_199  \n",
       "0   7.8784   8.5635  12.7803  -1.0914  \n",
       "1   8.1267   8.7889  18.3560   1.9518  \n",
       "2  -6.5213   8.2675  14.7222   0.3965  \n",
       "3  -2.9275  10.2922  17.9697  -8.9996  \n",
       "4   3.9267   9.5031  17.9974  -8.8104  \n",
       "\n",
       "[5 rows x 202 columns]"
      ]
     },
     "execution_count": 3,
     "metadata": {},
     "output_type": "execute_result"
    }
   ],
   "source": [
    "train_data.head()"
   ]
  },
  {
   "cell_type": "markdown",
   "metadata": {},
   "source": [
    "## Are there any NA values? ANS: No"
   ]
  },
  {
   "cell_type": "code",
   "execution_count": 4,
   "metadata": {},
   "outputs": [
    {
     "data": {
      "text/plain": [
       "False"
      ]
     },
     "execution_count": 4,
     "metadata": {},
     "output_type": "execute_result"
    }
   ],
   "source": [
    "# Check for null values\n",
    "train_data.isnull().values.any()"
   ]
  },
  {
   "cell_type": "markdown",
   "metadata": {},
   "source": [
    "## What is the metadata? Can memory be reduced at all?"
   ]
  },
  {
   "cell_type": "code",
   "execution_count": 5,
   "metadata": {},
   "outputs": [
    {
     "name": "stdout",
     "output_type": "stream",
     "text": [
      "Datatype of target: int64\n",
      "Datatype of variables: float64\n"
     ]
    }
   ],
   "source": [
    "print(f\"Datatype of target: {train_data.target.dtype}\")\n",
    "print(f\"Datatype of variables: {train_data.var_0.dtype}\")"
   ]
  },
  {
   "cell_type": "code",
   "execution_count": 6,
   "metadata": {},
   "outputs": [
    {
     "name": "stdout",
     "output_type": "stream",
     "text": [
      "New Datatype of target: int8\n",
      "New Datatype of variables: float32\n"
     ]
    }
   ],
   "source": [
    "# Can modify dataype of these to int8 and float32 respectedly\n",
    "train_data.target = train_data.target.astype(np.int8)\n",
    "for col in train_data.iloc[:,2:].columns:\n",
    "    train_data[col] = train_data[col].astype(np.float32)\n",
    "\n",
    "print(f\"New Datatype of target: {train_data.target.dtype}\")\n",
    "print(f\"New Datatype of variables: {train_data.var_0.dtype}\")"
   ]
  },
  {
   "cell_type": "code",
   "execution_count": 7,
   "metadata": {},
   "outputs": [
    {
     "name": "stdout",
     "output_type": "stream",
     "text": [
      "Memory usage is:  154.30458068847656  MB\n"
     ]
    }
   ],
   "source": [
    "# Print new memory usage:\n",
    "mem_usg = train_data.memory_usage().sum() / 1024**2 \n",
    "print(\"Memory usage is: \",mem_usg,\" MB\")"
   ]
  },
  {
   "cell_type": "markdown",
   "metadata": {},
   "source": [
    "### Revisit the imbalance in Data"
   ]
  },
  {
   "cell_type": "code",
   "execution_count": 8,
   "metadata": {},
   "outputs": [
    {
     "data": {
      "image/png": "[encoded data removed]",
      "text/plain": [
       "<Figure size 432x288 with 1 Axes>"
      ]
     },
     "metadata": {
      "needs_background": "light"
     },
     "output_type": "display_data"
    }
   ],
   "source": [
    "sns.countplot(x=\"target\", data=train_data)\n",
    "plt.show()"
   ]
  },
  {
   "cell_type": "markdown",
   "metadata": {},
   "source": [
    "<hr>"
   ]
  },
  {
   "cell_type": "markdown",
   "metadata": {},
   "source": [
    "## Algorithms to be used:\n",
    "- LogisticRegression\n",
    "- K Nearest Neighbors\n",
    "- Decision Tree\n",
    "- Random Forest\n",
    "- SVM Linear\n",
    "- SVM RBF\n",
    "- SGDRegressor\n",
    "- LightGBM (Seperate package... import lightgbm ias lgb)"
   ]
  },
  {
   "cell_type": "code",
   "execution_count": 9,
   "metadata": {},
   "outputs": [],
   "source": [
    "# from sklearn.model_selection import train_test_split\n",
    "\n",
    "# X = train_data.drop(columns=[\"ID_code\",\"target\"])\n",
    "# y = train_data.target\n",
    "\n",
    "# X_train, X_test, y_train, y_test = train_test_split(X, y, test_size=0.3)"
   ]
  },
  {
   "cell_type": "code",
   "execution_count": 10,
   "metadata": {},
   "outputs": [],
   "source": [
    "# print(f\"Train shape: {X_train.shape}\")\n",
    "# print(f\"Test shape: {X_test.shape}\")"
   ]
  },
  {
   "cell_type": "markdown",
   "metadata": {},
   "source": [
    "### Start with LogisticRegression"
   ]
  },
  {
   "cell_type": "code",
   "execution_count": 11,
   "metadata": {},
   "outputs": [],
   "source": [
    "# from sklearn.linear_model import LogisticRegression\n",
    "\n",
    "# # Model Creation\n",
    "# # C: Like in support vector machines, smaller values specify stronger regularization.\n",
    "# logmodel = LogisticRegression(C=0.001, class_weight=\"balanced\")\n",
    "\n",
    "# # fit the model to training data\n",
    "# logmodel.fit(X_train, y_train)\n",
    "\n",
    "# # Predict target values\n",
    "# predictions = logmodel.predict_proba(X_test)[:,1]\n",
    "\n",
    "# # Print the score of the fitted model\n",
    "# print(logmodel.score(X_test, y_test))"
   ]
  },
  {
   "cell_type": "markdown",
   "metadata": {},
   "source": [
    "### Looks like the model performed decently despite the imbalance in data\n",
    "Lets look at the ROC curve"
   ]
  },
  {
   "cell_type": "code",
   "execution_count": 12,
   "metadata": {},
   "outputs": [],
   "source": [
    "# from sklearn.metrics import classification_report, roc_curve, auc, precision_recall_curve\n",
    "\n",
    "# # Create ROC curve\n",
    "# fpr, tpr, thresholds = roc_curve(y_test.ravel().reshape(-1,1), predictions.reshape(-1,1))\n",
    "# AUC = auc(fpr, tpr)\n",
    "\n",
    "# print()\n",
    "# print(f\"Area Under the Curve Score: {AUC}\")\n",
    "\n",
    "# # Create Plot... Using seaborn plot takes longer to execute\n",
    "\n",
    "# sns.set_style(\"darkgrid\")\n",
    "\n",
    "# fig, ax = plt.subplots(figsize=(20,10))\n",
    "# sns.lineplot(x=fpr, y=tpr, ax=ax, color=\"blue\", label=\"Logistic\")\n",
    "# sns.lineplot(x=[0,1], y=[0,1], ax=ax, color=\"red\")\n",
    "# ax.lines[1].set_linestyle(\"--\")\n",
    "\n",
    "# plt.show()"
   ]
  },
  {
   "cell_type": "markdown",
   "metadata": {},
   "source": [
    "### The ROC Curve looks decent, but lets compare to the percision recall curve"
   ]
  },
  {
   "cell_type": "code",
   "execution_count": 13,
   "metadata": {},
   "outputs": [],
   "source": [
    "# # Create PRC Curve\n",
    "# p, r, threshold_pr = precision_recall_curve(y_test.ravel().reshape(-1,1), predictions.reshape(-1,1))\n",
    "\n",
    "# # Create subplot using both the Precision Recall Curve and the Receiver Operating Characteristic\n",
    "# fig, axes = plt.subplots(nrows=1, ncols=2, figsize=(20,10))\n",
    "\n",
    "# # ROC Curve\n",
    "# sns.lineplot(x=fpr, y=tpr, ax=axes[0], color=\"blue\", label=\"Logistic\")\n",
    "# sns.lineplot(x=[0,1], y=[0,1], ax=axes[0], color=\"red\")\n",
    "# axes[0].lines[1].set_linestyle(\"--\")\n",
    "# axes[0].set_ylim([-0.05, 1.05])\n",
    "# axes[0].set_xlim([-0.05, 1.05])\n",
    "# axes[0].set_title(\"ROC Curve\")\n",
    "# axes[0].set_xlabel(\"\")\n",
    "# axes[0].set_ylabel(\"\")\n",
    "\n",
    "# # PRC\n",
    "# sns.lineplot(x=p, y=r, ax=axes[1], color=\"blue\", label=\"Logistic\")\n",
    "# sns.lineplot(x=[0,1], y=[1,0], ax=axes[1], color=\"red\")\n",
    "# axes[1].lines[1].set_linestyle(\"--\")\n",
    "# axes[1].set_ylim([-0.05, 1.05])\n",
    "# axes[1].set_xlim([-0.05, 1.05])\n",
    "# axes[1].set_title(\"Percision Recall Curve\")\n",
    "# axes[1].set_xlabel(\"\")\n",
    "# axes[1].set_ylabel(\"\")\n"
   ]
  },
  {
   "cell_type": "code",
   "execution_count": 14,
   "metadata": {},
   "outputs": [],
   "source": [
    "# print(classification_report(y_test, logmodel.predict(X_test)))"
   ]
  },
  {
   "cell_type": "markdown",
   "metadata": {},
   "source": [
    "## Observation notes:\n",
    "- ROC Curve looks decent here because ROC curve does not punish for low False Positive Rate because there are so many negatives\n",
    "- Precision is highly sensitive to false positives. PR curve should tend toward the top right for good models.\n",
    "\n",
    "https://www.kaggle.com/lct14558/imbalanced-data-why-you-should-not-use-roc-curve"
   ]
  },
  {
   "cell_type": "markdown",
   "metadata": {},
   "source": [
    "## What if we used a StandardScaler()?"
   ]
  },
  {
   "cell_type": "code",
   "execution_count": 15,
   "metadata": {},
   "outputs": [],
   "source": [
    "# from sklearn.preprocessing import StandardScaler\n",
    "\n",
    "# scaler = StandardScaler()\n",
    "# scaler.fit(X_train)\n",
    "# X_train_scaled = scaler.transform(X_train); X_test_scaled = scaler.transform(X_test)"
   ]
  },
  {
   "cell_type": "markdown",
   "metadata": {},
   "source": [
    "### Put it all together:"
   ]
  },
  {
   "cell_type": "code",
   "execution_count": 16,
   "metadata": {},
   "outputs": [],
   "source": [
    "# # Model Creation\n",
    "# # C: Like in support vector machines, smaller values specify stronger regularization.\n",
    "# logmodel = LogisticRegression(C=0.001, class_weight=\"balanced\")\n",
    "\n",
    "# # fit the model to training data\n",
    "# logmodel.fit(X_train_scaled, y_train)\n",
    "\n",
    "# # Predict target values\n",
    "# predictions_scaled = logmodel.predict_proba(X_test_scaled)[:,1]\n",
    "\n",
    "# # Print the score of the fitted model\n",
    "# print(logmodel.score(X_test_scaled, y_test))"
   ]
  },
  {
   "cell_type": "code",
   "execution_count": 17,
   "metadata": {},
   "outputs": [],
   "source": [
    "# # Create ROC curve\n",
    "# fpr, tpr, thresholds = roc_curve(y_test.ravel().reshape(-1,1), predictions_scaled.reshape(-1,1))\n",
    "# AUC = auc(fpr, tpr)\n",
    "\n",
    "# print()\n",
    "# print(f\"Area Under the Curve Score: {AUC}\")\n",
    "\n",
    "# # Create PRC Curve\n",
    "# p, r, threshold_pr = precision_recall_curve(y_test.ravel().reshape(-1,1), predictions_scaled.reshape(-1,1))\n",
    "\n",
    "# # Create subplot using both the Precision Recall Curve and the Receiver Operating Characteristic\n",
    "# fig, axes = plt.subplots(nrows=1, ncols=2, figsize=(20,10))\n",
    "\n",
    "# # ROC Curve\n",
    "# sns.lineplot(x=fpr, y=tpr, ax=axes[0], color=\"blue\", label=\"Logistic\")\n",
    "# sns.lineplot(x=[0,1], y=[0,1], ax=axes[0], color=\"red\")\n",
    "# axes[0].lines[1].set_linestyle(\"--\")\n",
    "# axes[0].set_ylim([-0.05, 1.05])\n",
    "# axes[0].set_xlim([-0.05, 1.05])\n",
    "# axes[0].set_title(\"ROC Curve\")\n",
    "# axes[0].set_xlabel(\"\")\n",
    "# axes[0].set_ylabel(\"\")\n",
    "\n",
    "# # PRC\n",
    "# sns.lineplot(x=p, y=r, ax=axes[1], color=\"blue\", label=\"Logistic\")\n",
    "# sns.lineplot(x=[0,1], y=[1,0], ax=axes[1], color=\"red\")\n",
    "# axes[1].lines[1].set_linestyle(\"--\")\n",
    "# axes[1].set_ylim([-0.05, 1.05])\n",
    "# axes[1].set_xlim([-0.05, 1.05])\n",
    "# axes[1].set_title(\"Percision Recall Curve\")\n",
    "# axes[1].set_xlabel(\"\")\n",
    "# axes[1].set_ylabel(\"\")\n",
    "\n",
    "# plt.show()"
   ]
  },
  {
   "cell_type": "code",
   "execution_count": 18,
   "metadata": {},
   "outputs": [],
   "source": [
    "# print(classification_report(y_test, logmodel.predict(X_test_scaled)))"
   ]
  },
  {
   "cell_type": "markdown",
   "metadata": {},
   "source": [
    "### There's no noticable difference between scaling and not scaling!"
   ]
  },
  {
   "cell_type": "markdown",
   "metadata": {},
   "source": [
    "<hr>"
   ]
  },
  {
   "cell_type": "markdown",
   "metadata": {},
   "source": [
    "## Define Plotting function to produce comparison ROC Curve and PR Curve Charts! "
   ]
  },
  {
   "cell_type": "code",
   "execution_count": 19,
   "metadata": {},
   "outputs": [],
   "source": [
    "def ROC_PR_Curves(y_test, algo_dict):\n",
    "    # Creates the ROC vs. PC Curve chart above after all the models have been calculated and stored in algo_dict\n",
    "    # algo_dict ex: {\"Logistic_Regression\": log_predictions, \"KNN\": knn_predictions, ...}\n",
    "    \n",
    "    # Create subplot using both the Precision Recall Curve and the Receiver Operating Characteristic\n",
    "    fig, axes = plt.subplots(nrows=1, ncols=2, figsize=(20,10))\n",
    "        \n",
    "    for label, predictions in algo_dict.items():\n",
    "        \n",
    "        # Create ROC curve\n",
    "        fpr, tpr, thresholds = roc_curve(y_test.ravel().reshape(-1,1), predictions.reshape(-1,1))\n",
    "        AUC = np.round(auc(fpr, tpr), 4)\n",
    "        sns.lineplot(x=fpr, y=tpr, ax=axes[0], label=f\"{label} - AUC Score: {AUC}\")\n",
    "\n",
    "        # Create PR Curve\n",
    "        p, r, threshold_pr = precision_recall_curve(y_test.ravel().reshape(-1,1), predictions.reshape(-1,1))\n",
    "        sns.lineplot(x=p, y=r, ax=axes[1], label=label)\n",
    "    \n",
    "    # ROC Curve Axes Parameters\n",
    "    axes[0].set_ylim([-0.05, 1.05])\n",
    "    axes[0].set_xlim([-0.05, 1.05])\n",
    "    axes[0].set_title(\"ROC Curve\")\n",
    "    axes[0].set_xlabel(\"\")\n",
    "    axes[0].set_ylabel(\"\")        \n",
    "    \n",
    "    # PR Curve Axes Parameters\n",
    "    axes[1].set_ylim([-0.05, 1.05])\n",
    "    axes[1].set_xlim([-0.05, 1.05])\n",
    "    axes[1].set_title(\"Percision Recall Curve\")\n",
    "    axes[1].set_xlabel(\"\")\n",
    "    axes[1].set_ylabel(\"\")\n",
    "\n",
    "    # Display the Plot\n",
    "    plt.show()\n",
    "    \n",
    "    return \"Finished\""
   ]
  },
  {
   "cell_type": "markdown",
   "metadata": {},
   "source": [
    "## Now that ROC_PR_Curve is available:\n",
    "- Try all 8 algorithms\n",
    "- Add results of predict_proba to algo_dict"
   ]
  },
  {
   "cell_type": "code",
   "execution_count": 20,
   "metadata": {},
   "outputs": [],
   "source": [
    "from sklearn.model_selection import train_test_split\n",
    "from sklearn.metrics import classification_report, roc_curve, auc, precision_recall_curve\n",
    "\n",
    "X = train_data.drop(columns=[\"ID_code\",\"target\"])\n",
    "y = train_data.target\n",
    "\n",
    "X_train, X_test, y_train, y_test = train_test_split(X, y, test_size=0.3)"
   ]
  },
  {
   "cell_type": "code",
   "execution_count": 21,
   "metadata": {},
   "outputs": [],
   "source": [
    "# Define algo_dict\n",
    "algo_dict = {}"
   ]
  },
  {
   "cell_type": "markdown",
   "metadata": {},
   "source": [
    "### LogisticRegression"
   ]
  },
  {
   "cell_type": "code",
   "execution_count": 22,
   "metadata": {},
   "outputs": [
    {
     "name": "stderr",
     "output_type": "stream",
     "text": [
      "C:\\Users\\mtoriello0725\\Anaconda3\\envs\\PythonData\\lib\\site-packages\\sklearn\\linear_model\\logistic.py:433: FutureWarning: Default solver will be changed to 'lbfgs' in 0.22. Specify a solver to silence this warning.\n",
      "  FutureWarning)\n"
     ]
    },
    {
     "name": "stdout",
     "output_type": "stream",
     "text": [
      "0.778\n",
      "\n",
      "              precision    recall  f1-score   support\n",
      "\n",
      "           0       0.97      0.78      0.86     53932\n",
      "           1       0.28      0.78      0.41      6068\n",
      "\n",
      "   micro avg       0.78      0.78      0.78     60000\n",
      "   macro avg       0.63      0.78      0.64     60000\n",
      "weighted avg       0.90      0.78      0.82     60000\n",
      "\n"
     ]
    }
   ],
   "source": [
    "# Import model\n",
    "from sklearn.linear_model import LogisticRegression\n",
    "\n",
    "# Fit and calculate predictions to the model\n",
    "logmodel = LogisticRegression(C=0.001, class_weight=\"balanced\")\n",
    "logmodel.fit(X_train, y_train)\n",
    "predictions = logmodel.predict_proba(X_test)[:,1]\n",
    "\n",
    "# Move predictions to algo_dict\n",
    "algo_dict[\"LogisticRegression\"] = predictions\n",
    "\n",
    "# print the score\n",
    "print(logmodel.score(X_test, y_test))\n",
    "print()\n",
    "print(classification_report(y_test, logmodel.predict(X_test)))"
   ]
  },
  {
   "cell_type": "markdown",
   "metadata": {},
   "source": [
    "### KNN - May try multiple k values. For now try 3.\n",
    "#### Takes too long to run... will not be using this model"
   ]
  },
  {
   "cell_type": "code",
   "execution_count": 23,
   "metadata": {},
   "outputs": [],
   "source": [
    "# # Import Model\n",
    "# from sklearn.neighbors import KNeighborsClassifier\n",
    "\n",
    "# # Fit and calculate predictions to the model\n",
    "# neigh = KNeighborsClassifier(n_neighbors=3, weights=\"uniform\")\n",
    "# neigh.fit(X_train, y_train)\n",
    "# predictions = neigh.predict_proba(X_test)[:,1]\n",
    "\n",
    "# # Move predictions to algo_dict\n",
    "# algo_dict[\"KNN_n=3\"] = predictions\n",
    "\n",
    "# # print the score\n",
    "# print(neigh.score(X_test, y_test))\n",
    "# print()\n",
    "# print(classification_report(y_test, neigh.predict(X_test)))"
   ]
  },
  {
   "cell_type": "markdown",
   "metadata": {},
   "source": [
    "### Decision Tree"
   ]
  },
  {
   "cell_type": "code",
   "execution_count": 24,
   "metadata": {},
   "outputs": [
    {
     "name": "stdout",
     "output_type": "stream",
     "text": [
      "0.8278333333333333\n",
      "\n",
      "              precision    recall  f1-score   support\n",
      "\n",
      "           0       0.91      0.90      0.90     53932\n",
      "           1       0.16      0.17      0.17      6068\n",
      "\n",
      "   micro avg       0.83      0.83      0.83     60000\n",
      "   macro avg       0.54      0.54      0.54     60000\n",
      "weighted avg       0.83      0.83      0.83     60000\n",
      "\n"
     ]
    }
   ],
   "source": [
    "# Import Model\n",
    "from sklearn.tree import DecisionTreeClassifier\n",
    "\n",
    "# Fit and calculate predictions to the model\n",
    "dtree = DecisionTreeClassifier(class_weight=\"balanced\")\n",
    "dtree.fit(X_train, y_train)\n",
    "predictions = dtree.predict_proba(X_test)[:,1]\n",
    "\n",
    "# Move predictions to algo_dict\n",
    "algo_dict[\"DecisionTree\"] = predictions\n",
    "\n",
    "# print the score\n",
    "print(dtree.score(X_test, y_test))\n",
    "print()\n",
    "print(classification_report(y_test, dtree.predict(X_test)))"
   ]
  },
  {
   "cell_type": "markdown",
   "metadata": {},
   "source": [
    "### Random Forest - for now lets use 15 trees."
   ]
  },
  {
   "cell_type": "code",
   "execution_count": 25,
   "metadata": {},
   "outputs": [
    {
     "name": "stdout",
     "output_type": "stream",
     "text": [
      "0.8988833333333334\n",
      "\n",
      "              precision    recall  f1-score   support\n",
      "\n",
      "           0       0.90      1.00      0.95     53932\n",
      "           1       0.52      0.00      0.00      6068\n",
      "\n",
      "   micro avg       0.90      0.90      0.90     60000\n",
      "   macro avg       0.71      0.50      0.48     60000\n",
      "weighted avg       0.86      0.90      0.85     60000\n",
      "\n"
     ]
    }
   ],
   "source": [
    "# Import Model\n",
    "from sklearn.ensemble import RandomForestClassifier\n",
    "\n",
    "# Fit and calculate predictions to the model\n",
    "N = 15\n",
    "rforest = RandomForestClassifier(n_estimators=N, class_weight=\"balanced\")\n",
    "rforest.fit(X_train, y_train)\n",
    "predictions = rforest.predict_proba(X_test)[:,1]\n",
    "\n",
    "# Move predictions to algo_dict\n",
    "algo_dict[f\"RandomForect_N{str(N)}\"] = predictions\n",
    "\n",
    "# print the score\n",
    "print(rforest.score(X_test, y_test))\n",
    "print()\n",
    "print(classification_report(y_test, rforest.predict(X_test)))"
   ]
  },
  {
   "cell_type": "markdown",
   "metadata": {},
   "source": [
    "### SVM Linear"
   ]
  },
  {
   "cell_type": "code",
   "execution_count": 29,
   "metadata": {},
   "outputs": [
    {
     "name": "stderr",
     "output_type": "stream",
     "text": [
      "C:\\Users\\mtoriello0725\\Anaconda3\\envs\\PythonData\\lib\\site-packages\\sklearn\\model_selection\\_split.py:2053: FutureWarning: You should specify a value for 'cv' instead of relying on the default value. The default value will change from 3 to 5 in version 0.22.\n",
      "  warnings.warn(CV_WARNING, FutureWarning)\n"
     ]
    },
    {
     "name": "stdout",
     "output_type": "stream",
     "text": [
      "0.9135166666666666\n",
      "\n",
      "              precision    recall  f1-score   support\n",
      "\n",
      "           0       0.92      0.99      0.95     53932\n",
      "           1       0.70      0.25      0.37      6068\n",
      "\n",
      "   micro avg       0.91      0.91      0.91     60000\n",
      "   macro avg       0.81      0.62      0.66     60000\n",
      "weighted avg       0.90      0.91      0.89     60000\n",
      "\n"
     ]
    }
   ],
   "source": [
    "# Import linearsvc and calibration to get probability\n",
    "from sklearn.svm import LinearSVC\n",
    "from sklearn.calibration import CalibratedClassifierCV\n",
    "\n",
    "# Fit and calculate the model\n",
    "svclinear = LinearSVC(C=0.0001, tol=1e-5, class_weight=\"balanced\")\n",
    "clf_svclinear = CalibratedClassifierCV(svclinear)\n",
    "clf_svclinear.fit(X_train, y_train)\n",
    "predictions = clf_svclinear.predict_proba(X_test)[:,1]\n",
    "\n",
    "# Move predictions to algo_dict\n",
    "algo_dict[\"LinearSVC\"] = predictions\n",
    "\n",
    "# print the score\n",
    "print(clf_svclinear.score(X_test, y_test))\n",
    "print()\n",
    "print(classification_report(y_test, clf_svclinear.predict(X_test)))"
   ]
  },
  {
   "cell_type": "code",
   "execution_count": null,
   "metadata": {},
   "outputs": [],
   "source": []
  },
  {
   "cell_type": "markdown",
   "metadata": {},
   "source": [
    "### SVM RBF\n",
    "Very slow (as predicted with large data sets)"
   ]
  },
  {
   "cell_type": "code",
   "execution_count": 27,
   "metadata": {},
   "outputs": [],
   "source": [
    "# from sklearn.svm import SVC\n",
    "\n",
    "# # Fit and calculate the model\n",
    "# svc = SVC(C=0.001, kernel=\"rbf\", gamma=\"auto\", class_weight=\"balanced\", probability=True, tol=1e-5)\n",
    "# svc.fit(X_train, y_train)\n",
    "# predictions = svc.predict_proba(X_test)\n",
    "\n",
    "\n",
    "# algo_dict[\"SVM_RBF\"] = predictions\n",
    "\n",
    "# # print the score\n",
    "# print(svc.score(X_test, y_test))\n",
    "# print()\n",
    "# print(classification_report(y_test, svc.predict(X_test)))"
   ]
  },
  {
   "cell_type": "markdown",
   "metadata": {},
   "source": [
    "### SGDRegressor"
   ]
  },
  {
   "cell_type": "code",
   "execution_count": null,
   "metadata": {},
   "outputs": [],
   "source": []
  },
  {
   "cell_type": "markdown",
   "metadata": {},
   "source": [
    "### LightGBM"
   ]
  },
  {
   "cell_type": "code",
   "execution_count": null,
   "metadata": {},
   "outputs": [],
   "source": []
  },
  {
   "cell_type": "markdown",
   "metadata": {},
   "source": []
  },
  {
   "cell_type": "code",
   "execution_count": null,
   "metadata": {},
   "outputs": [],
   "source": []
  },
  {
   "cell_type": "markdown",
   "metadata": {},
   "source": [
    "## Plot all models on a ROC Curve and PR Curve:"
   ]
  },
  {
   "cell_type": "code",
   "execution_count": 30,
   "metadata": {},
   "outputs": [
    {
     "name": "stderr",
     "output_type": "stream",
     "text": [
      "C:\\Users\\mtoriello0725\\Anaconda3\\envs\\PythonData\\lib\\site-packages\\scipy\\stats\\stats.py:1713: FutureWarning: Using a non-tuple sequence for multidimensional indexing is deprecated; use `arr[tuple(seq)]` instead of `arr[seq]`. In the future this will be interpreted as an array index, `arr[np.array(seq)]`, which will result either in an error or a different result.\n",
      "  return np.add.reduce(sorted[indexer] * weights, axis=axis) / sumval\n"
     ]
    },
    {
     "data": {
      "image/png": "[encoded data removed]",
      "text/plain": [
       "<Figure size 1440x720 with 2 Axes>"
      ]
     },
     "metadata": {
      "needs_background": "light"
     },
     "output_type": "display_data"
    },
    {
     "data": {
      "text/plain": [
       "'Finished'"
      ]
     },
     "execution_count": 30,
     "metadata": {},
     "output_type": "execute_result"
    }
   ],
   "source": [
    "ROC_PR_Curves(y_test=y_test, algo_dict=algo_dict)"
   ]
  },
  {
   "cell_type": "code",
   "execution_count": null,
   "metadata": {},
   "outputs": [],
   "source": []
  },
  {
   "cell_type": "code",
   "execution_count": null,
   "metadata": {},
   "outputs": [],
   "source": []
  }
 ],
 "metadata": {
  "kernelspec": {
   "display_name": "Python 3",
   "language": "python",
   "name": "python3"
  },
  "language_info": {
   "codemirror_mode": {
    "name": "ipython",
    "version": 3
   },
   "file_extension": ".py",
   "mimetype": "text/x-python",
   "name": "python",
   "nbconvert_exporter": "python",
   "pygments_lexer": "ipython3",
   "version": "3.6.6"
  }
 },
 "nbformat": 4,
 "nbformat_minor": 2
}
